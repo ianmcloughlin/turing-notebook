{
 "cells": [
  {
   "cell_type": "markdown",
   "metadata": {},
   "source": [
    "# Turing"
   ]
  },
  {
   "cell_type": "code",
   "execution_count": 3,
   "metadata": {},
   "outputs": [],
   "source": [
    "duplicateby3 = {\n",
    "  ('q0', '0'): ('0', 'R', 'q0'),\n",
    "  ('q0', '_'): ('#', 'L', 'q1'),\n",
    "  ('q0', '1'): ('1', 'R', 'q0'),\n",
    "  ('q0', '#'): ('#', 'R', 'qf'),\n",
    "  ('q0', 'X'): ('X', 'R', 'qf'),\n",
    "  ('q1', '_'): ('_', 'R', 'q2'),\n",
    "  ('q1', '0'): ('0', 'L', 'q1'),\n",
    "  ('q1', '1'): ('1', 'L', 'q1'),\n",
    "  ('q1', '#'): ('#', 'R', 'qf'),\n",
    "  ('q1', 'X'): ('X', 'R', 'qf'),\n",
    "  ('q2', '_'): ('_', 'R', 'qf'),\n",
    "  ('q2', '0'): ('X', 'R', 'q3'),\n",
    "  ('q2', '1'): ('X', 'R', 'q4'),\n",
    "  ('q2', '#'): ('#', 'R', 'q7'),\n",
    "  ('q2', 'X'): ('X', 'R', 'qf'),\n",
    "  ('q3', '_'): ('0', 'L', 'q5'),\n",
    "  ('q3', '0'): ('0', 'R', 'q3'),\n",
    "  ('q3', '1'): ('1', 'R', 'q3'),\n",
    "  ('q3', '#'): ('#', 'R', 'q3'),\n",
    "  ('q3', 'X'): ('X', 'R', 'qf'),\n",
    "  ('q4', '_'): ('1', 'L', 'q6'),\n",
    "  ('q4', '0'): ('0', 'R', 'q4'),\n",
    "  ('q4', '1'): ('1', 'R', 'q4'),\n",
    "  ('q4', '#'): ('#', 'R', 'q4'),\n",
    "  ('q4', 'X'): ('X', 'R', 'qf'),\n",
    "  ('q5', '_'): ('_', 'L', 'qf'),\n",
    "  ('q5', '0'): ('0', 'L', 'q5'),\n",
    "  ('q5', '1'): ('1', 'L', 'q5'),\n",
    "  ('q5', '#'): ('#', 'L', 'q5'),\n",
    "  ('q5', 'X'): ('0', 'R', 'q2'),\n",
    "  ('q6', '_'): ('_', 'L', 'qf'),\n",
    "  ('q6', '0'): ('0', 'L', 'q6'),\n",
    "  ('q6', '1'): ('1', 'L', 'q6'),\n",
    "  ('q6', '#'): ('#', 'L', 'q6'),\n",
    "  ('q6', 'X'): ('1', 'R', 'q2'),\n",
    "  ('q7', '_'): ('1', 'L', 'q8'),\n",
    "  ('q7', '0'): ('0', 'L', 'q7'),\n",
    "  ('q7', '1'): ('1', 'L', 'q7'),\n",
    "  ('q7', '#'): ('#', 'L', 'q7'),\n",
    "  ('q7', 'X'): ('X', 'L', 'q7'),\n",
    "  ('q8', '_'): ('_', 'R', 'qa'),\n",
    "  ('q8', '0'): ('0', 'R', 'qf'),\n",
    "  ('q8', '1'): ('1', 'R', 'qf'),\n",
    "  ('q8', '#'): ('#', 'R', 'qf'),\n",
    "  ('q8', 'X'): ('X', 'R', 'qf'),\n",
    "}\n"
   ]
  },
  {
   "cell_type": "code",
   "execution_count": 12,
   "metadata": {},
   "outputs": [],
   "source": [
    "# A function to run an input on a given table.\n",
    "# table is a dictionary as above.\n",
    "# tape is a string containing the input.\n",
    "# state is the start state, as listed in table.\n",
    "def run_turing_machine(table, tape, state='q0', accept='qa', reject='qf', blank='_', returnTape=False, debug=False):\n",
    "  # Keep track of the length of the input.\n",
    "  len_tape = len(tape)\n",
    "  # Keep track of the number of times we look up the state table.\n",
    "  counter = 0\n",
    "  # Strings are immutable.\n",
    "  tape = list(tape)\n",
    "  # Check for empty string.\n",
    "  tape = tape + [blank]\n",
    "  # Start at position 0.\n",
    "  pos = 0\n",
    "  # Show tape and state.\n",
    "  output = ' '.join(tape[:pos] + [state] + tape[pos:])\n",
    "  if debug:\n",
    "    print(output)\n",
    "  # Keep looping unless we enter qa or qf.\n",
    "  while state not in {accept, reject}:\n",
    "    # Add one to the counter.\n",
    "    counter = counter + 1\n",
    "    # Look up the table for current state/symbol.\n",
    "    overwrite, move, nextstate = table[(state, tape[pos])]\n",
    "    # Overwrite the current cell.\n",
    "    tape[pos] = overwrite\n",
    "    # Move in the correct direction.\n",
    "    if move == 'L':\n",
    "      if pos > 0:\n",
    "        pos = pos - 1\n",
    "      else:\n",
    "        tape = [blank] + tape\n",
    "    else:\n",
    "      pos = pos + 1\n",
    "      if pos >= len(tape):\n",
    "        tape = tape + [blank]\n",
    "    # Change to next state.\n",
    "    state = nextstate\n",
    "    # Show tape and state.\n",
    "    output = ' '.join(tape[:pos] + [state] + tape[pos:])\n",
    "    if debug:\n",
    "      print(output)\n",
    "  # Show length of input and number of steps.\n",
    "  if debug:\n",
    "    print(f'Input Length: {len_tape}, Steps: {counter}')\n",
    "  # Trim the tape if returning.\n",
    "  if returnTape:\n",
    "    while tape[0] == blank:\n",
    "      tape = tape[1:]\n",
    "    while tape[-1] == blank:\n",
    "      tape = tape[:-1]\n",
    "    if state == accept:\n",
    "      return True, ''.join(tape)\n",
    "    else:\n",
    "      return False, ''.join(tape)\n",
    "  # Check the state.\n",
    "  if state == accept:\n",
    "    return True\n",
    "  else:\n",
    "    return False"
   ]
  },
  {
   "cell_type": "code",
   "execution_count": 19,
   "metadata": {},
   "outputs": [
    {
     "name": "stdout",
     "output_type": "stream",
     "text": [
      "q0 1 1 _\n",
      "1 q0 1 _\n",
      "1 1 q0 _\n",
      "1 q1 1 #\n",
      "q1 1 1 #\n",
      "q1 _ 1 1 #\n",
      "_ q2 1 1 #\n",
      "_ X q4 1 #\n",
      "_ X 1 q4 #\n",
      "_ X 1 # q4 _\n",
      "_ X 1 q6 # 1\n",
      "_ X q6 1 # 1\n",
      "_ q6 X 1 # 1\n",
      "_ 1 q2 1 # 1\n",
      "_ 1 X q4 # 1\n",
      "_ 1 X # q4 1\n",
      "_ 1 X # 1 q4 _\n",
      "_ 1 X # q6 1 1\n",
      "_ 1 X q6 # 1 1\n",
      "_ 1 q6 X # 1 1\n",
      "_ 1 1 q2 # 1 1\n",
      "_ 1 1 # q7 1 1\n",
      "_ 1 1 q7 # 1 1\n",
      "_ 1 q7 1 # 1 1\n",
      "_ q7 1 1 # 1 1\n",
      "q7 _ 1 1 # 1 1\n",
      "q8 _ 1 1 1 # 1 1\n",
      "_ qa 1 1 1 # 1 1\n",
      "Input Length: 2, Steps: 27\n"
     ]
    },
    {
     "data": {
      "text/plain": [
       "True"
      ]
     },
     "execution_count": 19,
     "metadata": {},
     "output_type": "execute_result"
    }
   ],
   "source": [
    "run_turing_machine(duplicateby3, '11', 'q0', debug=True)"
   ]
  },
  {
   "cell_type": "code",
   "execution_count": 20,
   "metadata": {},
   "outputs": [
    {
     "name": "stdout",
     "output_type": "stream",
     "text": [
      "q0 1 1 _\n",
      "1 q0 1 _\n",
      "1 1 q0 _\n",
      "1 q1 1 #\n",
      "q1 1 1 #\n",
      "q1 _ 1 1 #\n",
      "_ q2 1 1 #\n",
      "_ X q4 1 #\n",
      "_ X 1 q4 #\n",
      "_ X 1 # q4 _\n",
      "_ X 1 q6 # 1\n",
      "_ X q6 1 # 1\n",
      "_ q6 X 1 # 1\n",
      "_ 1 q2 1 # 1\n",
      "_ 1 X q4 # 1\n",
      "_ 1 X # q4 1\n",
      "_ 1 X # 1 q4 _\n",
      "_ 1 X # q6 1 1\n",
      "_ 1 X q6 # 1 1\n",
      "_ 1 q6 X # 1 1\n",
      "_ 1 1 q2 # 1 1\n",
      "_ 1 1 # q7 1 1\n",
      "_ 1 1 q7 # 1 1\n",
      "_ 1 q7 1 # 1 1\n",
      "_ q7 1 1 # 1 1\n",
      "q7 _ 1 1 # 1 1\n",
      "q8 _ 1 1 1 # 1 1\n",
      "_ qa 1 1 1 # 1 1\n",
      "Input Length: 2, Steps: 27\n"
     ]
    },
    {
     "data": {
      "text/plain": [
       "(True, '111#11')"
      ]
     },
     "execution_count": 20,
     "metadata": {},
     "output_type": "execute_result"
    }
   ],
   "source": [
    "run_turing_machine(duplicateby3, '11', 'q0', returnTape=True, debug=True)"
   ]
  },
  {
   "cell_type": "code",
   "execution_count": 15,
   "metadata": {},
   "outputs": [],
   "source": [
    "_, duped = run_turing_machine(duplicateby3, '11', 'q0', returnTape=True)"
   ]
  },
  {
   "cell_type": "code",
   "execution_count": 16,
   "metadata": {},
   "outputs": [],
   "source": [
    "# Assume no leading 0's?\n",
    "add = {\n",
    "  # Place X at start.\n",
    "  ('q0', '_'): ('X', 'R', 'q1'),\n",
    "  ('q0', '0'): ('0', 'L', 'q0'),\n",
    "  ('q0', '1'): ('1', 'L', 'q0'),\n",
    "  ('q0', '#'): ('#', 'L', 'q0'),\n",
    "  ('q0', 'X'): ('X', 'L', 'q0'),\n",
    "  # Decrease by 1.\n",
    "  ('q1', '_'): ('_', 'L', 'qf'),\n",
    "  ('q1', '0'): ('1', 'R', 'q1'),\n",
    "  ('q1', '1'): ('0', 'R', 'q2'),\n",
    "  ('q1', '#'): ('#', 'L', 'q5'),\n",
    "  ('q1', 'X'): ('X', 'L', 'qf'),\n",
    "  # Move past #.\n",
    "  ('q2', '_'): ('_', 'R', 'qf'),\n",
    "  ('q2', '0'): ('0', 'R', 'q2'),\n",
    "  ('q2', '1'): ('1', 'R', 'q2'),\n",
    "  ('q2', '#'): ('#', 'R', 'q3'),\n",
    "  ('q2', 'X'): ('X', 'R', 'qf'),\n",
    "  # Increase by 1.\n",
    "  ('q3', '_'): ('1', 'L', 'q4'),\n",
    "  ('q3', '0'): ('1', 'L', 'q4'),\n",
    "  ('q3', '1'): ('0', 'R', 'q3'),\n",
    "  ('q3', '#'): ('X', 'L', 'qf'),\n",
    "  ('q3', 'X'): ('X', 'L', 'qf'),\n",
    "  # Back to start.\n",
    "  ('q4', '_'): ('_', 'L', 'q4'),\n",
    "  ('q4', '0'): ('0', 'L', 'q4'),\n",
    "  ('q4', '1'): ('1', 'L', 'q4'),\n",
    "  ('q4', '#'): ('#', 'L', 'q4'),\n",
    "  ('q4', 'X'): ('X', 'R', 'q1'),\n",
    "  # Back to start, heading for q5.\n",
    "  ('q5', '_'): ('_', 'L', 'q5'),\n",
    "  ('q5', '0'): ('0', 'L', 'q5'),\n",
    "  ('q5', '1'): ('1', 'L', 'q5'),\n",
    "  ('q5', '#'): ('#', 'L', 'q5'),\n",
    "  ('q5', 'X'): ('X', 'L', 'q6'),\n",
    "  # Clean up X and #.\n",
    "  ('q6', '_'): ('_', 'R', 'q6'),\n",
    "  ('q6', '0'): ('_', 'R', 'q6'),\n",
    "  ('q6', '1'): ('_', 'R', 'q6'),\n",
    "  ('q6', '#'): ('_', 'R', 'qa'),\n",
    "  ('q6', 'X'): ('_', 'R', 'q6'),\n",
    "}"
   ]
  },
  {
   "cell_type": "code",
   "execution_count": 18,
   "metadata": {},
   "outputs": [
    {
     "data": {
      "text/plain": [
       "'111#11'"
      ]
     },
     "execution_count": 18,
     "metadata": {},
     "output_type": "execute_result"
    }
   ],
   "source": [
    "duped"
   ]
  },
  {
   "cell_type": "code",
   "execution_count": 17,
   "metadata": {},
   "outputs": [
    {
     "data": {
      "text/plain": [
       "(True, '0101')"
      ]
     },
     "execution_count": 17,
     "metadata": {},
     "output_type": "execute_result"
    }
   ],
   "source": [
    "run_turing_machine(add, duped, 'q0', returnTape=True)"
   ]
  },
  {
   "cell_type": "code",
   "execution_count": 21,
   "metadata": {},
   "outputs": [
    {
     "name": "stdout",
     "output_type": "stream",
     "text": [
      "q0 1 1 1 # 1 1 _\n",
      "q0 _ 1 1 1 # 1 1 _\n",
      "X q1 1 1 1 # 1 1 _\n",
      "X 0 q2 1 1 # 1 1 _\n",
      "X 0 1 q2 1 # 1 1 _\n",
      "X 0 1 1 q2 # 1 1 _\n",
      "X 0 1 1 # q3 1 1 _\n",
      "X 0 1 1 # 0 q3 1 _\n",
      "X 0 1 1 # 0 0 q3 _\n",
      "X 0 1 1 # 0 q4 0 1\n",
      "X 0 1 1 # q4 0 0 1\n",
      "X 0 1 1 q4 # 0 0 1\n",
      "X 0 1 q4 1 # 0 0 1\n",
      "X 0 q4 1 1 # 0 0 1\n",
      "X q4 0 1 1 # 0 0 1\n",
      "q4 X 0 1 1 # 0 0 1\n",
      "X q1 0 1 1 # 0 0 1\n",
      "X 1 q1 1 1 # 0 0 1\n",
      "X 1 0 q2 1 # 0 0 1\n",
      "X 1 0 1 q2 # 0 0 1\n",
      "X 1 0 1 # q3 0 0 1\n",
      "X 1 0 1 q4 # 1 0 1\n",
      "X 1 0 q4 1 # 1 0 1\n",
      "X 1 q4 0 1 # 1 0 1\n",
      "X q4 1 0 1 # 1 0 1\n",
      "q4 X 1 0 1 # 1 0 1\n",
      "X q1 1 0 1 # 1 0 1\n",
      "X 0 q2 0 1 # 1 0 1\n",
      "X 0 0 q2 1 # 1 0 1\n",
      "X 0 0 1 q2 # 1 0 1\n",
      "X 0 0 1 # q3 1 0 1\n",
      "X 0 0 1 # 0 q3 0 1\n",
      "X 0 0 1 # q4 0 1 1\n",
      "X 0 0 1 q4 # 0 1 1\n",
      "X 0 0 q4 1 # 0 1 1\n",
      "X 0 q4 0 1 # 0 1 1\n",
      "X q4 0 0 1 # 0 1 1\n",
      "q4 X 0 0 1 # 0 1 1\n",
      "X q1 0 0 1 # 0 1 1\n",
      "X 1 q1 0 1 # 0 1 1\n",
      "X 1 1 q1 1 # 0 1 1\n",
      "X 1 1 0 q2 # 0 1 1\n",
      "X 1 1 0 # q3 0 1 1\n",
      "X 1 1 0 q4 # 1 1 1\n",
      "X 1 1 q4 0 # 1 1 1\n",
      "X 1 q4 1 0 # 1 1 1\n",
      "X q4 1 1 0 # 1 1 1\n",
      "q4 X 1 1 0 # 1 1 1\n",
      "X q1 1 1 0 # 1 1 1\n",
      "X 0 q2 1 0 # 1 1 1\n",
      "X 0 1 q2 0 # 1 1 1\n",
      "X 0 1 0 q2 # 1 1 1\n",
      "X 0 1 0 # q3 1 1 1\n",
      "X 0 1 0 # 0 q3 1 1\n",
      "X 0 1 0 # 0 0 q3 1\n",
      "X 0 1 0 # 0 0 0 q3 _\n",
      "X 0 1 0 # 0 0 q4 0 1\n",
      "X 0 1 0 # 0 q4 0 0 1\n",
      "X 0 1 0 # q4 0 0 0 1\n",
      "X 0 1 0 q4 # 0 0 0 1\n",
      "X 0 1 q4 0 # 0 0 0 1\n",
      "X 0 q4 1 0 # 0 0 0 1\n",
      "X q4 0 1 0 # 0 0 0 1\n",
      "q4 X 0 1 0 # 0 0 0 1\n",
      "X q1 0 1 0 # 0 0 0 1\n",
      "X 1 q1 1 0 # 0 0 0 1\n",
      "X 1 0 q2 0 # 0 0 0 1\n",
      "X 1 0 0 q2 # 0 0 0 1\n",
      "X 1 0 0 # q3 0 0 0 1\n",
      "X 1 0 0 q4 # 1 0 0 1\n",
      "X 1 0 q4 0 # 1 0 0 1\n",
      "X 1 q4 0 0 # 1 0 0 1\n",
      "X q4 1 0 0 # 1 0 0 1\n",
      "q4 X 1 0 0 # 1 0 0 1\n",
      "X q1 1 0 0 # 1 0 0 1\n",
      "X 0 q2 0 0 # 1 0 0 1\n",
      "X 0 0 q2 0 # 1 0 0 1\n",
      "X 0 0 0 q2 # 1 0 0 1\n",
      "X 0 0 0 # q3 1 0 0 1\n",
      "X 0 0 0 # 0 q3 0 0 1\n",
      "X 0 0 0 # q4 0 1 0 1\n",
      "X 0 0 0 q4 # 0 1 0 1\n",
      "X 0 0 q4 0 # 0 1 0 1\n",
      "X 0 q4 0 0 # 0 1 0 1\n",
      "X q4 0 0 0 # 0 1 0 1\n",
      "q4 X 0 0 0 # 0 1 0 1\n",
      "X q1 0 0 0 # 0 1 0 1\n",
      "X 1 q1 0 0 # 0 1 0 1\n",
      "X 1 1 q1 0 # 0 1 0 1\n",
      "X 1 1 1 q1 # 0 1 0 1\n",
      "X 1 1 q5 1 # 0 1 0 1\n",
      "X 1 q5 1 1 # 0 1 0 1\n",
      "X q5 1 1 1 # 0 1 0 1\n",
      "q5 X 1 1 1 # 0 1 0 1\n",
      "q6 _ X 1 1 1 # 0 1 0 1\n",
      "_ q6 X 1 1 1 # 0 1 0 1\n",
      "_ _ q6 1 1 1 # 0 1 0 1\n",
      "_ _ _ q6 1 1 # 0 1 0 1\n",
      "_ _ _ _ q6 1 # 0 1 0 1\n",
      "_ _ _ _ _ q6 # 0 1 0 1\n",
      "_ _ _ _ _ _ qa 0 1 0 1\n",
      "Input Length: 6, Steps: 100\n"
     ]
    },
    {
     "data": {
      "text/plain": [
       "(True, '0101')"
      ]
     },
     "execution_count": 21,
     "metadata": {},
     "output_type": "execute_result"
    }
   ],
   "source": [
    "run_turing_machine(add, duped, 'q0', returnTape=True, debug=True)"
   ]
  },
  {
   "cell_type": "code",
   "execution_count": null,
   "metadata": {},
   "outputs": [],
   "source": []
  }
 ],
 "metadata": {
  "kernelspec": {
   "display_name": "base",
   "language": "python",
   "name": "python3"
  },
  "language_info": {
   "codemirror_mode": {
    "name": "ipython",
    "version": 3
   },
   "file_extension": ".py",
   "mimetype": "text/x-python",
   "name": "python",
   "nbconvert_exporter": "python",
   "pygments_lexer": "ipython3",
   "version": "3.10.9"
  },
  "orig_nbformat": 4
 },
 "nbformat": 4,
 "nbformat_minor": 2
}
